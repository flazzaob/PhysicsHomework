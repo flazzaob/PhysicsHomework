{
  "cells": [
    {
      "cell_type": "markdown",
      "source": [
        "Title: Práctica \"El Efecto Fotoeléctrico\"  \n",
        "\n",
        "Author: Javier Martín Cosgaya, Pelayo Campa González, Manuel Alises Núñez, Almudena Ortega Bruna  \n",
        "\n",
        "Date: 1 de Diciembre de 2020"
      ],
      "metadata": {
        "nteract": {
          "transient": {
            "deleting": false
          }
        }
      }
    },
    {
      "cell_type": "markdown",
      "source": [
        "# EL EFECTO FOTOELÉCTRICO\n",
        "\n",
        "Cuando la Energía de la luz $E$ incide en un metal, libera una energía mínima $\\phi$ para que el electrón se extraiga del metal e intente llegar a la otra placa. Si a este supuesto, le conectamos un cable a ambos metales, se generará una Energía Cinética $E_k$ siempre y cuando $E$ sea mayor que $\\phi$ para que el electrón tenga la interacción suficiente para llegar a la otra placa.\n",
        "$$\n",
        "E_k = E - \\phi\n",
        "$$\n",
        "\n",
        "Si además aplicamos una diferencia de potencial $V$ en sentido contrario al movimiento de los electrones, podemos provocar el frenado del movimiento de los mismos. Por lo tanto, dicha Energía Cinética dependerá de la diferencia del potencial por la carga del electrón que se mueve:\n",
        "$$\n",
        "e\\cdot V = E_k = E - \\phi\n",
        "$$\n",
        "\n",
        "Sabiendo que la Energía Cinética depende (a su vez) de la masa y velocidad de la partícula:\n",
        "$$\n",
        "E_k = \\frac{1}{2}\\cdot m\\cdot v^2\n",
        "$$\n",
        "Y la carga del electrón:\n",
        "$$\n",
        "e = 1.66 \\mathrm{x} 10^{-19} \\mathrm{C}\n",
        "$$\n",
        "\n",
        "\n"
      ],
      "metadata": {
        "nteract": {
          "transient": {
            "deleting": false
          }
        }
      }
    },
    {
      "cell_type": "markdown",
      "source": [
        "## Primera parte del Ejercicio: demostrar que el primer término de la ecuación tiene unidades de J\n",
        "Sustituímos por unidades del S.I. aquellos elemenos de la ecuación que conocemos, excepto $V$.\n",
        "\n",
        "$$\n",
        "\\mathrm{C} \\cdot \\mathrm{V} = \\mathrm{Kg} \\cdot \\left(\\frac{m}{s}\\right)^2 \n",
        "$$\n",
        "\n",
        "\n",
        "Si las unidades fundamentales del Coulombio $C$:\n",
        "\n",
        "$$\n",
        "\\mathrm{C} = \\mathrm{A} \\cdot \\mathrm{s}\n",
        "$$\n",
        "\n",
        "Podríamos decir que:\n",
        "\n",
        "$$\n",
        "\\mathrm{A\\cdot s}\\cdot V = \\mathrm{Kg\\cdot \\big(\\frac{m}{s}\\big)^2} \\rightarrow V = \\mathrm{Kg} \\cdot \\frac{m^2}{A}\\cdot \\mathrm{s^3}\n",
        "$$\n",
        "\n",
        "Apoyándonos en la Segunda Ley de Newton para poder sacar las unidades fundamentales del Newton:\n",
        "$$\n",
        "F = m\\cdot a \\rightarrow \\mathrm{N} = \\mathrm{Kg\\cdot \\frac{m}{s^2}} \n",
        "$$\n",
        "\n",
        "Sustituímos en la ecuación anterior para sacar las unidades fundamentales de $V$:\n",
        "$$\n",
        "V = \\mathrm{\\frac{N\\cdot m}{A\\cdot s}}\n",
        "$$\n",
        "\n",
        "Por lo tanto:\n",
        "$$\n",
        "e\\cdot V = \\mathrm{A\\cdot s\\cdot \\frac{N\\cdot m}{A\\cdot s}} \\rightarrow e\\cdot V = \\mathrm{N\\cdot m} = \\mathrm{J}\n",
        "$$"
      ],
      "metadata": {
        "nteract": {
          "transient": {
            "deleting": false
          }
        }
      }
    },
    {
      "cell_type": "markdown",
      "source": [
        "## Ejercicio de Calentamiento\n",
        "Sabiendo que la recta en dos puntos se define como:\n",
        "$$\n",
        "\\frac{x - x_1}{x_2 - x_1} =  \\frac{y - y_1}{y_2 - y_1}\n",
        "$$\n",
        "1. Primero despejamos la $y$:\n",
        "$$\n",
        "\\frac{x - x_1}{x_2 - x_1}\\, \\big(y_2 - y_1\\big) = y - y_1 \\rightarrow \\frac{\\big(x - x_1\\big)\\cdot \\big(y_2 - y_1\\big)}{x_2 - x_1} = y - y_1\n",
        "$$\n",
        "$$\n",
        "y = \\frac{\\big(x - x_1\\big)\\cdot \\big(y_2 - y_1\\big)}{x_2 - x_1} + y_1\n",
        "$$\n",
        "2. Deshago los paréntesis calculándo las operaciones:\n",
        "$$\n",
        "y = \\frac{x\\cdot y_2 - x\\cdot y_1 - x_1\\cdot y_2 + x_1\\cdot y_1}{x_2 - x_1} + \\frac{y_1\\big(x_2 - x_1\\big)}{x_2 - x_1}\n",
        "$$\n",
        "$$\n",
        "y = \\frac{x\\big(y_2 - y_1\\big)- x_1\\cdot y_2 + x_1\\cdot y_1 + x_2\\cdot y_1 - x_1\\cdot y_1}{x_2 - x_1}\n",
        "$$\n",
        "3. Anulamos términos idénticos y damos forma a la ecuación:\n",
        "$$\n",
        "y = \\frac{x\\big(y_2 - y_1\\big)}{x_2 - x_1} + \\frac{x_2\\cdot y_1 - x_1\\cdot y_2}{x_2 - x_1}\n",
        "$$\n",
        "Conclusión, siguendo el modelo $y = mx + b$:\n",
        "$$\n",
        "m = \\frac{y_2 - y_1}{x_2 - x_1}\\, \\rightarrow \\, b = \\frac{x_2\\cdot y_1 - x_1\\cdot y_2}{x_2 - x_1}\n",
        "$$"
      ],
      "metadata": {
        "nteract": {
          "transient": {
            "deleting": false
          }
        }
      }
    },
    {
      "cell_type": "markdown",
      "source": [
        "# SIMULACIÓN EFECTO FOTOELÉCTRICO\n",
        "Elaboramos una simulación con los colores del arcoiris como referencia de longitudes de onda. Como los electrones no empiezan a moverse hasta un determinado color, solo realizamos la simulación cuando podemos detectar algo de movimiento. Así podremos calcular las constantes con más precisión.\n",
        "\n",
        "Para la recogida de los datos de muestra se ha utilizado el applet Java del proyecto PhET de la universidad de Colorado. Concretamente en su version HTML, gracias a la tecnología CheerpJ.\n",
        "CheerpJ es compilador 100% compatible con Java que permite convertir cualquier aplicación Java en una aplicacion WEB. Para ello, las convierte en HTML5 / JavaScript.\n",
        "Desde su versión 2.0, CheerJ soporta WebAssemply en su entorno de ejecución para una mejora del rendimiento."
      ],
      "metadata": {
        "nteract": {
          "transient": {
            "deleting": false
          }
        }
      }
    },
    {
      "cell_type": "code",
      "source": [
        "var regression = require('./regression.js');\n",
        "\n",
        "const c = 3e8;\n",
        "const e = 1.66e-19;\n",
        "var waveLength = [486, 451, 403].map(x =>x*1e-9) ; //Longitudes de onda para la simulación del metal del Sodio\n",
        "var voltageMeasured =[-0.20,-0.4,-0.8];\n",
        "var frecuency = [];\n",
        "var data = []; \n",
        "var layout;\n",
        "                 \n",
        "function Plotly(data, layout, $$) {\n",
        "    $$ = $$ || global.$$;\n",
        "    $$.mime({ \"application/vnd.plotly.v1+json\": { data: data, layout: layout } });\n",
        "}"
      ],
      "outputs": [],
      "execution_count": 1,
      "metadata": {
        "collapsed": true,
        "jupyter": {
          "source_hidden": false,
          "outputs_hidden": false
        },
        "nteract": {
          "transient": {
            "deleting": false
          }
        },
        "execution": {
          "shell.execute_reply": "2020-11-28T18:29:42.722Z",
          "iopub.status.busy": "2020-11-28T18:29:42.906Z",
          "iopub.execute_input": "2020-11-28T18:29:42.914Z",
          "iopub.status.idle": "2020-11-28T18:29:42.923Z"
        }
      }
    },
    {
      "cell_type": "markdown",
      "source": [
        "Para la primera tarea, calcularemos mediante javascript los valores de frecuencia $f$ utilizando el valor de longitud de onda $\\lambda$ que hemos escogido para realizar la siguiente simulación.\n",
        "Aplicando el *Teorema de Fourier* : $\\lambda = v / f$ , y sabiendo que la velocidad constante que se produce coincide con la velocidad de la luz ($c = 3\\cdot10^{8} \\mathrm{m/s}$): \n",
        "$$\n",
        "\\lambda\\cdot \\mathrm{m} = \\frac{c\\cdot \\Big(\\mathrm{\\frac{m}{s}}\\Big)}{f}\\, \\rightarrow\\, f = \\frac{c\\cdot \\Big(\\mathrm{\\frac{m}{s}}\\Big)}{\\lambda\\cdot \\mathrm{m}}\\, \\rightarrow\\, f = \\frac{c}{\\lambda}\\cdot \\mathrm{\\Big(\\frac{1}{s}\\Big)}\n",
        "$$\n",
        "Siendo las unidades $\\mathrm{\\frac{1}{s}} = \\mathrm{Hz}$\n",
        "\n",
        "Mediante el siguiente código obtenemos la frecuencia de las longitudes de onda:"
      ],
      "metadata": {
        "nteract": {
          "transient": {
            "deleting": false
          }
        }
      }
    },
    {
      "cell_type": "code",
      "source": [
        "for(i=0;i<waveLength.length;i++){\n",
        "    frecuency[i] = c/waveLength[i];\n",
        "    console.log(frecuency[i].toExponential()); \n",
        "}"
      ],
      "outputs": [
        {
          "output_type": "stream",
          "name": "stdout",
          "text": [
            "6.17283950617284e+14\n",
            "6.651884700665189e+14\n",
            "7.444168734491314e+14\n"
          ]
        }
      ],
      "execution_count": 2,
      "metadata": {
        "collapsed": true,
        "jupyter": {
          "source_hidden": false,
          "outputs_hidden": false
        },
        "nteract": {
          "transient": {
            "deleting": false
          }
        },
        "execution": {
          "iopub.status.busy": "2020-11-28T18:29:42.935Z",
          "iopub.execute_input": "2020-11-28T18:29:42.943Z",
          "iopub.status.idle": "2020-11-28T18:29:42.965Z",
          "shell.execute_reply": "2020-11-28T18:29:42.735Z"
        }
      }
    },
    {
      "cell_type": "markdown",
      "source": [
        "Rellenamos la tabla requerida en el ejercicio:\n",
        "\n",
        "| Color | Longitud de Onda $(\\lambda)$ | Frecuencia $(f)$ |\n",
        "|:-----:|:----------------------------:|:------------------:|\n",
        "|Rojo|699nm|$4.29\\cdot 10^{14}Hz$| \n",
        "|Naranja|599nm|$5\\cdot 10^{14}Hz$|\n",
        "|Amarillo|575nm|$5.21\\cdot 10^{14}Hz$|\n",
        "|Verde|533nm|$5.62\\cdot 10^{14}Hz$|\n",
        "|Cyan|486nm|$6.17\\cdot 10^{14}Hz$|\n",
        "|Azul|451nm|$6.65\\cdot 10^{14}Hz$|\n",
        "|Violeta|403nm|$7.44\\cdot 10^{14}Hz$|\n",
        "\n",
        "La longitud de onda $\\lambda$ es inversamente proporcional a la frecuencia $f$, esto es, cuando una onda electromagnética con una frecuencia mas alta tiene una longitud de onda más corta, y viceversa.\n",
        "Realizamos el ajuste de una recta para pintar la gráfica de los valores adquiridos, y así visualizar la tendencia:\n",
        "\n",
        "\n",
        "\n"
      ],
      "metadata": {
        "nteract": {
          "transient": {
            "deleting": false
          }
        }
      }
    },
    {
      "cell_type": "markdown",
      "source": [
        "Hallada la pendiente y sabiendo que:\n",
        "$$\n",
        "e\\, V = 2\\, \\pi\\, \\hbar\\, f - \\phi\\, \\rightarrow\\, V = \\frac{2\\, c\\, \\pi\\, \\hbar}{e}\\cdot \\frac{1}{\\lambda} - \\frac{\\phi}{e}\n",
        "$$\n",
        "A partir de la ecuación anterior y sabiendo que la pendiente siguiendo la gráfica tiene las unidades: $m = \\mathrm{\\frac{V}{m^{-1}}}$ ( ya que es el Voltaje partido de la inversa de la longitud de onda), que $\\mathrm{V = \\frac{J}{C}}$, que $\\mathrm{C = A\\cdot s}$ y que la ecuación de la recta es $ y = m\\, x + b$ y la carga de un $e = 1.66x10^{-19} \\mathrm{C} $, podemos concluir:\n",
        "$$\n",
        "\\hbar = \\frac{m\\cdot e}{2\\, c\\cdot \\pi}\\cdot \\mathrm{\\frac{\\Big(\\frac{V}{m^{-1}}\\Big)\\cdot C}{\\frac{m}{s}}}\\, \\rightarrow\\, \\mathrm{\\frac{\\Big(\\frac{J/A\\cdot s}{m^{-1}}\\Big)\\cdot A\\cdot s}{\\frac{m}{s}}}\\, \\rightarrow\\, J\\cdot s\n",
        "$$\n",
        "Las unidades de la energía de arranque:\n",
        "$$\n",
        "\\phi = b\\cdot e\\cdot \\mathrm{\\frac{J}{C}\\cdot C}\\, \\rightarrow\\, \\mathrm{J}\n",
        "$$\n"
      ],
      "metadata": {
        "nteract": {
          "transient": {
            "deleting": false
          }
        }
      }
    },
    {
      "cell_type": "code",
      "source": [
        "var waveLengthInverse = waveLength.map(lambda => 1/lambda);\n",
        "\n",
        "var dataToAdjust = voltageMeasured.reduce((tuplesWavelengthVoltage, b, i) => {\n",
        "  tuplesWavelengthVoltage.push([waveLengthInverse[i],b]);\n",
        "  return tuplesWavelengthVoltage;\n",
        "}, []);\n",
        "\n",
        "console.log(dataToAdjust);\n",
        "var result = regression.linear(dataToAdjust, {precision: 15});\n",
        "var m = result.equation[0]; //pendiente\n",
        "var b = result.equation[1]; //ordenada en el origen\n",
        "console.log('La pendiente es = ' + m + ' y la ordenada en el origen es b = ' + b);"
      ],
      "outputs": [
        {
          "output_type": "stream",
          "name": "stdout",
          "text": [
            "[\n",
            "  [ 2057613.1687242799, -0.2 ],\n",
            "  [ 2217294.9002217297, -0.4 ],\n",
            "  [ 2481389.5781637714, -0.8 ]\n",
            "]\n",
            "La pendiente es = -0.000001425750704 y la ordenada en el origen es b = 2.744265375600105\n"
          ]
        }
      ],
      "execution_count": 3,
      "metadata": {
        "collapsed": true,
        "jupyter": {
          "source_hidden": false,
          "outputs_hidden": false
        },
        "nteract": {
          "transient": {
            "deleting": false
          }
        },
        "execution": {
          "iopub.status.busy": "2020-11-28T18:29:42.978Z",
          "iopub.execute_input": "2020-11-28T18:29:42.988Z",
          "iopub.status.idle": "2020-11-28T18:29:43.004Z",
          "shell.execute_reply": "2020-11-28T18:29:42.748Z"
        }
      }
    },
    {
      "cell_type": "code",
      "source": [
        "// Calculamos la constante de Planck y la energía mínima:\n",
        "var planckConstant = (m * e)/(2 * c * (mathUnits.pi));\n",
        "console.log('La constante de Planck es: ' + planckConstant);\n",
        "\n",
        "var minEnergy = b * e;\n",
        "console.log('La Energía de arranque para el Sodio es: ' + minEnergy);"
      ],
      "outputs": [
        {
          "output_type": "stream",
          "name": "stdout",
          "text": [
            "La constante de Planck es: -1.255597839276202e-34\n",
            "La Energía de arranque para el Sodio es: 4.555480523496175e-19\n"
          ]
        }
      ],
      "execution_count": 4,
      "metadata": {
        "collapsed": true,
        "jupyter": {
          "source_hidden": false,
          "outputs_hidden": false
        },
        "nteract": {
          "transient": {
            "deleting": false
          }
        },
        "execution": {
          "iopub.status.busy": "2020-11-28T18:29:43.016Z",
          "iopub.execute_input": "2020-11-28T18:29:43.023Z",
          "iopub.status.idle": "2020-11-28T18:29:43.038Z",
          "shell.execute_reply": "2020-11-28T18:29:42.759Z"
        }
      }
    },
    {
      "cell_type": "markdown",
      "source": [
        "En la siguiente línea calculamos los voltajes de frenado mediante la pendiente y la ordenada en el origen:\n",
        "$$\n",
        "V_{calculado} = m\\cdot \\frac{1}{\\lambda} + b\n",
        "$$"
      ],
      "metadata": {
        "nteract": {
          "transient": {
            "deleting": false
          }
        }
      }
    },
    {
      "cell_type": "code",
      "source": [
        "var braking_voltage = waveLengthInverse.map(reverse_lambda => reverse_lambda * m + b);\n",
        "console.log (braking_voltage);"
      ],
      "outputs": [
        {
          "output_type": "stream",
          "name": "stdout",
          "text": [
            "[ -0.1893780482682077, -0.417044389366636, -0.7935775623651553 ]\n"
          ]
        }
      ],
      "execution_count": 5,
      "metadata": {
        "collapsed": true,
        "jupyter": {
          "source_hidden": false,
          "outputs_hidden": false
        },
        "nteract": {
          "transient": {
            "deleting": false
          }
        },
        "execution": {
          "iopub.status.busy": "2020-11-28T18:29:43.052Z",
          "iopub.execute_input": "2020-11-28T18:29:43.059Z",
          "iopub.status.idle": "2020-11-28T18:29:43.072Z",
          "shell.execute_reply": "2020-11-28T18:29:42.769Z"
        }
      }
    },
    {
      "cell_type": "markdown",
      "source": [
        "Con estos valores recogidos, vamos a realizar el ajuste a una recta para realizar el calculo de la constante de Planck y φ.\n",
        "Para relizarlo, vamos a utilizar el paquete \"regression\".\n",
        "Este paquete tambien esta disponible en UNPKG.\n",
        "UNPKG es un respositorio global, accesible y rápido vía URL, que apoyandose en CDNs mejora el rendimiento de nuestro hosting.\n",
        "Está licenciado por GPL y es gratuito por lo que su uso es cada vez mas extendido aunque aún esta por debajo de otros servicios de la misma naturaleza como pueden ser jsDelivr o cdnjs.\n",
        "Los CDNs, (\"Content Delivery Network\"), son servidores de contenido dispersos geograficamente por la red para agilizar y liberar a nuestro hosting de la descarga de recursos como código JavaScript, CSS.. optimizando el acceso a la Web."
      ],
      "metadata": {
        "nteract": {
          "transient": {
            "deleting": false
          }
        }
      }
    },
    {
      "cell_type": "code",
      "source": [
        "var data =[ {\n",
        "   x: waveLengthInverse,\n",
        "   y: voltageMeasured,\n",
        "   name: 'Longitud de Onda/Voltaje Medido',\n",
        "   mode: 'lines+markers',\n",
        "   type: 'scatter'},     \n",
        "   {\n",
        "   x: waveLengthInverse,\n",
        "   y: braking_voltage,\n",
        "   name: 'Longitud de Onda/Voltaje Calculado',\n",
        "   mode: 'lines+markers',\n",
        "   type: 'scatter'} \n",
        "   ];\n",
        "\n",
        "var layout = {\n",
        "  title: 'Gráfica datos experimentales',\n",
        "  xaxis: { title: 'Longitud de onda',\n",
        "    titlefont: { family: 'Courier New, monospace', size: 18, color: '#7f7f7f' }\n",
        "  },\n",
        "  yaxis: {\n",
        "    title: 'Voltaje', titlefont: {\n",
        "      family: 'Courier New, monospace', size: 18, color: '#7f7f7f' }\n",
        "  }\n",
        "};\n",
        "\n",
        " Plotly(data,layout);"
      ],
      "outputs": [
        {
          "output_type": "execute_result",
          "execution_count": 6,
          "data": {
            "application/vnd.plotly.v1+json": {
              "data": [
                {
                  "x": [
                    2057613.1687242799,
                    2217294.9002217297,
                    2481389.5781637714
                  ],
                  "y": [
                    -0.2,
                    -0.4,
                    -0.8
                  ],
                  "name": "Longitud de Onda/Voltaje Medido",
                  "mode": "lines+markers",
                  "type": "scatter"
                },
                {
                  "x": [
                    2057613.1687242799,
                    2217294.9002217297,
                    2481389.5781637714
                  ],
                  "y": [
                    -0.1893780482682077,
                    -0.417044389366636,
                    -0.7935775623651553
                  ],
                  "name": "Longitud de Onda/Voltaje Calculado",
                  "mode": "lines+markers",
                  "type": "scatter"
                }
              ],
              "layout": {
                "title": "Gráfica datos experimentales",
                "xaxis": {
                  "title": "Longitud de onda",
                  "titlefont": {
                    "family": "Courier New, monospace",
                    "size": 18,
                    "color": "#7f7f7f"
                  }
                },
                "yaxis": {
                  "title": "Voltaje",
                  "titlefont": {
                    "family": "Courier New, monospace",
                    "size": 18,
                    "color": "#7f7f7f"
                  }
                }
              }
            }
          },
          "metadata": {}
        }
      ],
      "execution_count": 6,
      "metadata": {
        "collapsed": true,
        "jupyter": {
          "source_hidden": false,
          "outputs_hidden": false
        },
        "nteract": {
          "transient": {
            "deleting": false
          }
        },
        "execution": {
          "shell.execute_reply": "2020-11-28T18:29:42.778Z",
          "iopub.status.busy": "2020-11-28T18:29:43.084Z",
          "iopub.execute_input": "2020-11-28T18:29:43.092Z",
          "iopub.status.idle": "2020-11-28T18:29:43.193Z"
        }
      }
    },
    {
      "cell_type": "markdown",
      "source": [
        "# SIMULACIÓN CON 4 METALES\n",
        "Declaramos las variables que contienen los datos medidos con el API de Java del Efecto fotoeléctrico, siendo:\n",
        "<p>$wavelengthZ$ -> Longitudes de onda del Zinc</p>\n",
        "<p>$wavelengthC$ -> Longitudes de onda del Cobre</p>\n",
        "<p>$wavelengthCal$ -> Longitudes de onda del Calcio</p>\n",
        "<p>$wavelengthS$ -> Longitudes de onda del Sodio</p>"
      ],
      "metadata": {
        "nteract": {
          "transient": {
            "deleting": false
          }
        }
      }
    },
    {
      "cell_type": "code",
      "source": [
        "var wavelengthZ = [262,246,222,201].map(x =>x*1e-9); //Trace0 -> Longitudes de onda del Zinc\n",
        "var wavelengthC = [241,228,207,189].map(x =>x*1e-9); // Trace1 -> Longitudes de onda del Cobre\n",
        "var wavelengthCal = [378,344,298,261].map(x =>x*1e-9); // Trace2 -> Longitudes de onda del Calcio\n",
        "var wavelengthS = [466,415,349,299].map(x =>x*1e-9); // Trace3 -> Longitudes de onda del Sodio\n",
        "var voltagemeasured = [-0.2,-0.6,-1.2,-1.8]; //Voltajes de frenado\n",
        "var wavelength = [wavelengthZ, wavelengthC, wavelengthCal, wavelengthS]; //Array que contiene las longitudes de onda de todos los metales\n",
        "var data = []; \n",
        "var layout;\n",
        "var regression = require('./regression.js');\n",
        "\n",
        "\n",
        "function Plotly(data, layout, $$) {\n",
        "    $$ = $$ || global.$$;\n",
        "    $$.mime({ \"application/vnd.plotly.v1+json\": { data: data, layout: layout } });\n",
        "}"
      ],
      "outputs": [],
      "execution_count": 1,
      "metadata": {
        "collapsed": true,
        "jupyter": {
          "source_hidden": false,
          "outputs_hidden": false
        },
        "nteract": {
          "transient": {
            "deleting": false
          }
        },
        "execution": {
          "shell.execute_reply": "2020-12-01T08:42:48.448Z",
          "iopub.status.busy": "2020-12-01T08:42:48.480Z",
          "iopub.execute_input": "2020-12-01T08:42:48.489Z",
          "iopub.status.idle": "2020-12-01T08:42:48.499Z"
        }
      }
    },
    {
      "cell_type": "markdown",
      "source": [
        "Esta función calculará los valores de la pendiente y la ordenada para después devolver el valor del Voltaje de Frenado Calculado:"
      ],
      "metadata": {
        "nteract": {
          "transient": {
            "deleting": false
          }
        }
      }
    },
    {
      "cell_type": "code",
      "source": [
        "function regressionApplication(data_to_adjust,regression,lambda_1){\n",
        "  var braking_voltage;\n",
        "  var result = regression.linear(data_to_adjust,{precision: 15});\n",
        "  var m = result.equation[0]; //pendiente\n",
        "  var b = result.equation[1]; //ordenada en el origen\n",
        "  console.log('La pendiente es = ' + m + ', y la ordenada es = ' + b);\n",
        "  braking_voltage = lambda_1.map(reverse_lambda => reverse_lambda * m + b);\n",
        "\n",
        "  return braking_voltage;\n",
        "}"
      ],
      "outputs": [],
      "execution_count": 2,
      "metadata": {
        "collapsed": true,
        "jupyter": {
          "source_hidden": false,
          "outputs_hidden": false
        },
        "nteract": {
          "transient": {
            "deleting": false
          }
        },
        "execution": {
          "shell.execute_reply": "2020-12-01T08:42:49.549Z",
          "iopub.status.busy": "2020-12-01T08:42:49.516Z",
          "iopub.execute_input": "2020-12-01T08:42:49.524Z",
          "iopub.status.idle": "2020-12-01T08:42:49.540Z"
        }
      }
    },
    {
      "cell_type": "code",
      "source": [
        "for(i=0;i<wavelength.length;i++){\n",
        "  var braking_voltage; \n",
        "  var lambda_1 = wavelength[i].map(lambda=> 1/lambda);\n",
        "  var data_to_adjust = voltagemeasured.reduce((tuple_wl_vm, b ,i) => {\n",
        "    tuple_wl_vm.push([lambda_1[i],b]);\n",
        "    return tuple_wl_vm;\n",
        "  },[]);     \n",
        " \n",
        " braking_voltage = regressionApplication(data_to_adjust,regression,lambda_1); //Llamada a la función regressionApplication\n",
        "  \n",
        " var traceA = {\n",
        "   x: lambda_1,\n",
        "   y: voltagemeasured,\n",
        "   name: 'Trace'+i,\n",
        "   mode: 'lines+markers',\n",
        "   type: 'scatter'};    \n",
        "  data.push(traceA);\n",
        "  \n",
        "   var traceB = {\n",
        "   x: lambda_1,\n",
        "   y: braking_voltage,\n",
        "   name: 'Trace'+i+'s',\n",
        "   mode: 'lines+markers',\n",
        "   type: 'scatter'}; \n",
        "   data.push(traceB);\n",
        "}"
      ],
      "outputs": [
        {
          "output_type": "stream",
          "name": "stdout",
          "text": [
            "La pendiente es = -0.000001371677267, y la ordenada es = 5.003581175875551\n",
            "La pendiente es = -0.0000013863352, y la ordenada es = 5.516306033879675\n",
            "La pendiente es = -0.00000134183129, y la ordenada es = 3.323599049890657\n",
            "La pendiente es = -0.000001327004373, y la ordenada es = 2.621424069327308\n"
          ]
        },
        {
          "output_type": "execute_result",
          "execution_count": 3,
          "data": {
            "text/plain": "8"
          },
          "metadata": {}
        }
      ],
      "execution_count": 3,
      "metadata": {
        "collapsed": true,
        "jupyter": {
          "source_hidden": false,
          "outputs_hidden": false
        },
        "nteract": {
          "transient": {
            "deleting": false
          }
        },
        "execution": {
          "shell.execute_reply": "2020-12-01T08:42:51.353Z",
          "iopub.status.busy": "2020-12-01T08:42:51.294Z",
          "iopub.execute_input": "2020-12-01T08:42:51.302Z",
          "iopub.status.idle": "2020-12-01T08:42:51.345Z"
        }
      }
    },
    {
      "cell_type": "markdown",
      "source": [
        "Tabla de función del trabajo $W$ según el material:\n",
        "\n",
        "| Metal | $\\phi/eV$ | Calculado |\n",
        "|:-----:|:---------:|:---------:|\n",
        "|Zinc|4.90|5.00| \n",
        "|Cobre|5.10|5.52|\n",
        "|Calcio|2.87|3.32|\n",
        "|Sodio|2.36|2.62|\n",
        "\n",
        "A pesar de calcular pendientes muy similares, las ordenadas en el origen tienen un error aproximado de $\\pm$ 0.5."
      ],
      "metadata": {
        "nteract": {
          "transient": {
            "deleting": false
          }
        }
      }
    },
    {
      "cell_type": "code",
      "source": [
        "var layout = {\n",
        "  title: 'Gráfica datos experimentales',\n",
        "  xaxis: { title: 'Longitud de onda',\n",
        "    titlefont: { family: 'Courier New, monospace', size: 18, color: '#7f7f7f' }\n",
        "  },\n",
        "  yaxis: {\n",
        "    title: 'Voltaje', titlefont: {\n",
        "      family: 'Courier New, monospace', size: 18, color: '#7f7f7f' }\n",
        "  }\n",
        "};\n",
        "\n",
        " Plotly(data,layout);\n"
      ],
      "outputs": [
        {
          "output_type": "execute_result",
          "execution_count": 4,
          "data": {
            "application/vnd.plotly.v1+json": {
              "data": [
                {
                  "x": [
                    3816793.893129771,
                    4065040.650406504,
                    4504504.504504505,
                    4975124.378109452
                  ],
                  "y": [
                    -0.2,
                    -0.6,
                    -1.2,
                    -1.8
                  ],
                  "name": "Trace0",
                  "mode": "lines+markers",
                  "type": "scatter"
                },
                {
                  "x": [
                    3816793.893129771,
                    4065040.650406504,
                    4504504.504504505,
                    4975124.378109452
                  ],
                  "y": [
                    -0.23182824015498316,
                    -0.5723426737179445,
                    -1.1751452520523769,
                    -1.8206838340746971
                  ],
                  "name": "Trace0s",
                  "mode": "lines+markers",
                  "type": "scatter"
                },
                {
                  "x": [
                    4149377.593360996,
                    4385964.912280702,
                    4830917.874396135,
                    5291005.291005291
                  ],
                  "y": [
                    -0.2,
                    -0.6,
                    -1.2,
                    -1.8
                  ],
                  "name": "Trace1",
                  "mode": "lines+markers",
                  "type": "scatter"
                },
                {
                  "x": [
                    4149377.593360996,
                    4385964.912280702,
                    4830917.874396135,
                    5291005.291005291
                  ],
                  "y": [
                    -0.23612218188795975,
                    -0.5641115099799743,
                    -1.1809654637048652,
                    -1.8188008444272032
                  ],
                  "name": "Trace1s",
                  "mode": "lines+markers",
                  "type": "scatter"
                },
                {
                  "x": [
                    2645502.6455026455,
                    2906976.7441860465,
                    3355704.697986577,
                    3831417.6245210725
                  ],
                  "y": [
                    -0.2,
                    -0.6,
                    -1.2,
                    -1.8
                  ],
                  "name": "Trace2",
                  "mode": "lines+markers",
                  "type": "scatter"
                },
                {
                  "x": [
                    2645502.6455026455,
                    2906976.7441860465,
                    3355704.697986577,
                    3831417.6245210725
                  ],
                  "y": [
                    -0.22621917762257038,
                    -0.5770733047605057,
                    -1.179190513867732,
                    -1.8175170037491895
                  ],
                  "name": "Trace2s",
                  "mode": "lines+markers",
                  "type": "scatter"
                },
                {
                  "x": [
                    2145922.746781116,
                    2409638.5542168673,
                    2865329.5128939827,
                    3344481.6053511705
                  ],
                  "y": [
                    -0.2,
                    -0.6,
                    -1.2,
                    -1.8
                  ],
                  "name": "Trace3",
                  "mode": "lines+markers",
                  "type": "scatter"
                },
                {
                  "x": [
                    2145922.746781116,
                    2409638.5542168673,
                    2865329.5128939827,
                    3344481.6053511705
                  ],
                  "y": [
                    -0.22622479977140442,
                    -0.5761768294678724,
                    -1.1808807243689667,
                    -1.8167176463917554
                  ],
                  "name": "Trace3s",
                  "mode": "lines+markers",
                  "type": "scatter"
                }
              ],
              "layout": {
                "title": "Gráfica datos experimentales",
                "xaxis": {
                  "title": "Longitud de onda",
                  "titlefont": {
                    "family": "Courier New, monospace",
                    "size": 18,
                    "color": "#7f7f7f"
                  }
                },
                "yaxis": {
                  "title": "Voltaje",
                  "titlefont": {
                    "family": "Courier New, monospace",
                    "size": 18,
                    "color": "#7f7f7f"
                  }
                }
              }
            }
          },
          "metadata": {}
        }
      ],
      "execution_count": 4,
      "metadata": {
        "collapsed": true,
        "jupyter": {
          "source_hidden": false,
          "outputs_hidden": false
        },
        "nteract": {
          "transient": {
            "deleting": false
          }
        },
        "execution": {
          "shell.execute_reply": "2020-12-01T08:43:07.886Z",
          "iopub.status.busy": "2020-12-01T08:43:07.692Z",
          "iopub.execute_input": "2020-12-01T08:43:07.702Z",
          "iopub.status.idle": "2020-12-01T08:43:07.877Z"
        }
      }
    },
    {
      "cell_type": "markdown",
      "source": [
        "## Ejercicio Premium"
      ],
      "metadata": {
        "nteract": {
          "transient": {
            "deleting": false
          }
        }
      }
    },
    {
      "cell_type": "code",
      "source": [
        "//Medidas obtenidas para una longitud de onda de 100nm y ningún voltaje de frenado. El metal utilizado para las mediciones es el Sodio\n",
        "var lightIntensity = [0.2,0.4,0.6,0.8,1]; //Intensidad de la luz en %\n",
        "var current = [0.176,0.353,0.529,0.706,0.882]; //Corriente eléctrica = Nº Electrones\n",
        "var regression = require('./regression.js');\n",
        "var data = [];\n",
        "   \n",
        "function Plotly(data,layout,$$){\n",
        "    $$ = $$ || global.$$;\n",
        "    $$.mime({\"application/vnd.plotly.v1+json\": {data:data, layout:layout}});\n",
        "\n",
        "}"
      ],
      "outputs": [],
      "execution_count": 5,
      "metadata": {
        "collapsed": true,
        "jupyter": {
          "source_hidden": false,
          "outputs_hidden": false
        },
        "nteract": {
          "transient": {
            "deleting": false
          }
        },
        "execution": {
          "shell.execute_reply": "2020-12-01T08:43:10.623Z",
          "iopub.status.busy": "2020-12-01T08:43:10.591Z",
          "iopub.execute_input": "2020-12-01T08:43:10.600Z",
          "iopub.status.idle": "2020-12-01T08:43:10.615Z"
        }
      }
    },
    {
      "cell_type": "code",
      "source": [
        "var data = [{\n",
        "  x: current,\n",
        "  y: lightIntensity,\n",
        "  name: 'Corriente respecto a Intensidad',\n",
        "  mode: 'lines+markers',\n",
        "  type: 'scatter'\n",
        "}];\n",
        "\n",
        "var layout = {\n",
        "  title: 'Gráfica datos experimentales',\n",
        "  xaxis: { title: 'Intensidad de Corriente',\n",
        "    titlefont: { family: 'Courier New, monospace', size: 18, color: '#7f7f7f' }\n",
        "  },\n",
        "  yaxis: {\n",
        "    title: 'Intensidad Lumínica', titlefont: {\n",
        "      family: 'Courier New, monospace', size: 18, color: '#7f7f7f' }\n",
        "  }\n",
        "};\n",
        "\n",
        " Plotly(data,layout);"
      ],
      "outputs": [
        {
          "output_type": "execute_result",
          "execution_count": 6,
          "data": {
            "application/vnd.plotly.v1+json": {
              "data": [
                {
                  "x": [
                    0.176,
                    0.353,
                    0.529,
                    0.706,
                    0.882
                  ],
                  "y": [
                    0.2,
                    0.4,
                    0.6,
                    0.8,
                    1
                  ],
                  "name": "Corriente respecto a Intensidad",
                  "mode": "lines+markers",
                  "type": "scatter"
                }
              ],
              "layout": {
                "title": "Gráfica datos experimentales",
                "xaxis": {
                  "title": "Intensidad de Corriente",
                  "titlefont": {
                    "family": "Courier New, monospace",
                    "size": 18,
                    "color": "#7f7f7f"
                  }
                },
                "yaxis": {
                  "title": "Intensidad Lumínica",
                  "titlefont": {
                    "family": "Courier New, monospace",
                    "size": 18,
                    "color": "#7f7f7f"
                  }
                }
              }
            }
          },
          "metadata": {}
        }
      ],
      "execution_count": 6,
      "metadata": {
        "collapsed": true,
        "jupyter": {
          "source_hidden": false,
          "outputs_hidden": false
        },
        "nteract": {
          "transient": {
            "deleting": false
          }
        },
        "execution": {
          "shell.execute_reply": "2020-12-01T08:43:12.280Z",
          "iopub.status.busy": "2020-12-01T08:43:12.210Z",
          "iopub.execute_input": "2020-12-01T08:43:12.218Z",
          "iopub.status.idle": "2020-12-01T08:43:12.272Z"
        }
      }
    },
    {
      "cell_type": "markdown",
      "source": [
        "## CONCLUSIÓN DE LAS SIMULACIONES\n",
        "Observamos que cuanta más emisión de radiación, es decir, se aumenta el número de fotones que chocan contra el metal, más electrones se liberan sin modificar su Energía Cinética, y por tanto, sin modificar su velocidad (permanecen ambas constantes).\n",
        "Cuantos más electrones llegan al otro lado de la placa, más corriente lee el amperímetro.\n",
        "Podemos concluir, que a más intensidad lumínica mayor es la corriente obtenida, es decir que la Intensidad de Corriente es proporcional a la Intensidad Lumínica o Nº de fotones emitidos."
      ],
      "metadata": {
        "nteract": {
          "transient": {
            "deleting": false
          }
        }
      }
    },
    {
      "cell_type": "markdown",
      "source": [
        "# ALGO DE HISTORIA\n",
        "La historia del descubrimiento del efecto foto eléctrico es toda una aventura, para la que hay que viajar a finales del siglo XIX y principios del XX.\n",
        "\n",
        "En 1864, James Clerk Maxwell consiguió uno de los mayores logros de la física del siglo XIX, describiendo un fenómeno que denominó electromagnetismo.\n",
        "\n",
        "![](https://lh3.googleusercontent.com/proxy/yVZUjoL2E8oeYJ8ssQ1-3aIcFXD1cQYvrE2NvUFPYIrwwHWZ27Su2XO2JzgD50QKHoP1f_j2frv-AlK6_F1dopbhrAAWHD0loOSQbKyz9_sRP8FodG0Mkf_qzyP0OID6Xj53KDo)\n",
        "\n",
        "Dos décadas después, fue H. Hertz quien aportó la corroboración experimental de la existencia de estas ondas electromagnéticas, para entonces, desgraciadamente Maxwell ya había fallecido. O quizá, afortunadamente, porque a su vez, Hertz, accidentalmente, descubrió el efecto fotoeléctrico que tiraba por tierra la teoría clásica del electromagnetismo de Maxwell, que incluso Hertz daba por sentada.\n",
        "\n",
        "Pero no fue capaz de desarrollar ninguna teoría que diera explicación a este fenómeno. A su favor, es justo decir que el hecho de que aún no se conociera la existencia del electrón no le ayudo mucho.\n",
        "\n",
        "En 1900, tres años después de descubrir la existencia del electrón, surge en escena Max Planck, quien a la desesperada había recurrido a solución absurda e ilógica para dar explicación a este efecto. Esto es, que la luz son cuantos de energía, es decir, unos paquetes discretos cuya energía crece con la frecuencia de la luz y de una constante muy pequeña. Que más tarde recibirá su nombre, la constante de Planck.\n",
        "\n",
        "La física clásica no ve con buenos ojos esta teoría “alocada”, e incluso “suicida” podríamos decir, de Planck, y sigue intentando dar explicación a porque se produce este efecto fotoeléctrico. Fue en 1902, el ayudante de Hertz, Philipp Lenard quien continuo la investigación, llegando a descubrir que la energía de estos electrones no dependía de la intensidad de la luz sino únicamente de su longitud de onda, pero sin llegar a dar la explicación de efecto en sí.\n",
        "\n",
        "No fue hasta 1905, cuando Albert Einstein, es su cuarto artículo, curiosamente el menos conocido y por el contrario por el que consiguió el premio Nobel de Física en 1921, quien consiguiera demostra el efecto fotoeléctrico.\n",
        "\n",
        "Para ello, Einstein, se basó en la hipótesis cuántica de Planck, sobre los cuantos de luz. Su aplicación al efecto fotoeléctrico, le permitió explicar un fenómeno físico, la dualidad onda-partícula, porque la luz tiene ambas naturalezas, lo que conocemos por fotón.\n",
        "\n",
        "Para ello, Einstein, al igual que hizo Planck se vio obligado a recurrir a conceptos nuevos para explicar el misterio, conceptos que supusieron el origen de una nueva rama de la física, la cuántica.\n",
        "\n",
        "Este hecho produjo una gran rivalidad entre Einstein y Lenard, ya que sintió que le había robado su descubrimiento. Su rencor creció cuando Einstein recibió el Nobel de Física.\n",
        "\n",
        "La rivalidad fue tal que Einstein llego a publicar a siguiente cita:\n",
        "“…admiro a Lenard como maestro de la física experimental, [pero] todavía no ha producido nada destacado en física.”\n",
        "\n",
        "Esta rivalidad, fue generalizada entre dos vertientes de la física de la época, la física “judía” y la física “aria”. La primera, a la que pertenecen Planck y Eisntein por su ascendencia judía, era una física más aplicada frente a la física más teórica del otro bando. El hecho de que en esa época fuera aumentando el antisemitismo, tampoco ayudo. Por ello, Einstein comenzó a recibir críticas e insultos con tintes raciales y un ataque de la prensa, tanto la genérica como la especializada.\n",
        "\n",
        "Un dato curioso, es que tanto Planck y Einstein, quienes fueron los que dieron los primeros pasos a lo que hoy conocemos física cuántica, no tardaron posteriormente a negar cualquier implicación que tuvieran con ella. \n"
      ],
      "metadata": {
        "nteract": {
          "transient": {
            "deleting": false
          }
        }
      }
    }
  ],
  "metadata": {
    "kernel_info": {
      "name": "node_nteract"
    },
    "language_info": {
      "name": "javascript",
      "version": "12.8.1",
      "mimetype": "application/javascript",
      "file_extension": ".js"
    },
    "kernelspec": {
      "argv": [
        "C:\\Program Files\\nteract\\nteract.exe",
        "C:\\Program Files\\nteract\\resources\\app.asar\\node_modules\\ijavascript\\lib\\kernel.js",
        "{connection_file}",
        "--protocol=5.0",
        "--hide-undefined"
      ],
      "display_name": "Node.js (nteract)",
      "env": {
        "ELECTRON_RUN_AS_NODE": "1",
        "NODE_PATH": "C:\\Program Files\\nteract\\resources\\app.asar\\node_modules"
      },
      "language": "javascript",
      "name": "node_nteract"
    },
    "nteract": {
      "version": "0.27.0"
    }
  },
  "nbformat": 4,
  "nbformat_minor": 0
}
