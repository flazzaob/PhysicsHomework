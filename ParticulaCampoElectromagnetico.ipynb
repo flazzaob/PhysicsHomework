{
 "cells": [
  {
   "cell_type": "markdown",
   "metadata": {},
   "source": [
    "# Particula en un campo electromagnético (resolución en Jupyter Notebook)\n"
   ]
  },
  {
   "cell_type": "markdown",
   "metadata": {},
   "source": [
    "Un electrón con una capacidad de trabajo de $72090\\cdot 10^{-19} J$ orbita de manera perpendicular a un campo magnético de $3250 G$. ¿Cuál es el radio de la órbita? ¿Y su frecuencia y periodo angular? Resuelve el mismo ejercicio para un antineutrón.\n",
    "Resolveremos este ejercicio utilizando un notebook Jupyter. Usaremos para ello sympy (para el cálculo simbólico) y pin (que nos dará acceso a unidades de medición utilizadas en física)."
   ]
  },
  {
   "cell_type": "markdown",
   "metadata": {},
   "source": [
    "Como trabajaremos en el SI, necesitamos convertir las unidades del campo magnético. Vienen dadas en $gauss (G)$ y necesitamos que estén en $tesla (T)$. "
   ]
  },
  {
   "cell_type": "code",
   "execution_count": 5,
   "metadata": {},
   "outputs": [
    {
     "data": {
      "text/latex": [
       "$\\displaystyle 0.325 \\text{T}$"
      ],
      "text/plain": [
       "0.325*tesla"
      ]
     },
     "execution_count": 5,
     "metadata": {},
     "output_type": "execute_result"
    }
   ],
   "source": [
    "from sympy import symbols, Eq, solve, expressions, sqrt, pi\n",
    "from sympy.physics.units import tesla, Quantity, magnetic_flux_density, convert_to, kilogram, mass, meter, meters, second, speed, joules, coulomb, radians, hertz,length, acceleration, speed, time, frequency\n",
    "from sympy.physics.units.systems import SI\n",
    "#import scipy.constants as sp_constants\n",
    "import math\n",
    "\n",
    "gauss = Quantity(\"gauss\")\n",
    "SI.set_quantity_dimension(gauss, magnetic_flux_density)\n",
    "SI.set_quantity_scale_factor(gauss, 1e-4*tesla)\n",
    "\n",
    "campo_magnetico = 3250*gauss\n",
    "campo_magnetico_SI = convert_to(campo_magnetico,tesla)\n",
    "campo_magnetico_SI"
   ]
  },
  {
   "cell_type": "markdown",
   "metadata": {},
   "source": [
    "Una vez hecho esto pedimos a sympy que nos convierta el campo magnético."
   ]
  },
  {
   "cell_type": "markdown",
   "metadata": {},
   "source": [
    "Vamos a necesitar también la masa de un electrón."
   ]
  },
  {
   "cell_type": "code",
   "execution_count": 6,
   "metadata": {},
   "outputs": [
    {
     "data": {
      "text/latex": [
       "$\\displaystyle 9.10938356 \\cdot 10^{-31} \\text{kg}$"
      ],
      "text/plain": [
       "9.10938356e-31*kilogram"
      ]
     },
     "execution_count": 6,
     "metadata": {},
     "output_type": "execute_result"
    }
   ],
   "source": [
    "masa_electron = Quantity(\"masa_electron\")\n",
    "SI.set_quantity_dimension(masa_electron, mass)\n",
    "SI.set_quantity_scale_factor(masa_electron,9.10938356e-31*kilogram)\n",
    "convert_to(masa_electron, kilogram)\n"
   ]
  },
  {
   "cell_type": "markdown",
   "metadata": {},
   "source": [
    "Ahora necesitamos calcular la velocidad de nuestro electrón. Para ello, conocemos su energía (cinética). Partiendo de la ecuación: \n",
    "$$ K = \\frac{1}{2}\\cdot m \\cdot v^2 $$ \n",
    "\n",
    "Es decir $$ 72090\\cdot 10^{-19}J = \\frac{1}{2}\\cdot 9.1093837015\\cdot 10^{-31}kg \\cdot v^2 $$ \n",
    "\n",
    "Por lo tanto $$ v = \\sqrt{\\frac{2\\cdot 72090\\cdot 10^{-19} J}{9.1093837015\\cdot 10^{-31}kg}} $$\n",
    "\n",
    "$$Demostraremos\\ que\\ \\sqrt{\\frac{J}{kg}} \\ son\\ unidades\\ de\\ velocidad.$$ \n",
    "\n",
    "$$\n",
    "\\sqrt{\\frac{J}{kg}} \\rightarrow \\sqrt{\\frac{N \\cdot m}{\\frac{N \\cdot s^2}{m}}} \\rightarrow \\sqrt{\\frac{N \\cdot m^2}{N \\cdot s^2}} \\rightarrow \\sqrt{\\frac{m^2}{s^2}} \\rightarrow \\frac{m}{s}\n",
    "$$\n",
    "\n",
    "No obstante haremos estos cálculos mediante las funciones que sympy nos proporciona."
   ]
  },
  {
   "cell_type": "code",
   "execution_count": 7,
   "metadata": {},
   "outputs": [
    {
     "data": {
      "text/latex": [
       "$\\displaystyle \\frac{125807929.848134 \\text{m}}{\\text{s}}$"
      ],
      "text/plain": [
       "125807929.848134*meter/second"
      ]
     },
     "execution_count": 7,
     "metadata": {},
     "output_type": "execute_result"
    }
   ],
   "source": [
    "v, m_electron, r, q_electron, v_electron, B = symbols(\"v m_electron r q_electron v_electron B\")\n",
    "energia_cinetica = Eq(72090e-19*joules, 1/2 * masa_electron * v**2)\n",
    "solucion = solve(energia_cinetica, v)\n",
    "velocidad_particula = convert_to(solucion[1],meter/second).n()\n",
    "velocidad_particula"
   ]
  },
  {
   "cell_type": "markdown",
   "metadata": {},
   "source": [
    "Para calcular el radio de giro de la partícula utilizaremos la Ecuación de Lorentz y la fórmula de la fuerza centrípeta. Igualando ambas de tal forma que $ F_c = F_m $.\n",
    "$$\n",
    "\\frac{m\\cdot \\textbf{v}^2}{r} = q\\cdot \\textbf{v} \\cdot \\textbf{B} \\rightarrow r = \\frac{m\\cdot \\textbf{v}}{\\textbf{q} \\cdot \\textbf{B}}\n",
    "$$"
   ]
  },
  {
   "cell_type": "code",
   "execution_count": 8,
   "metadata": {},
   "outputs": [
    {
     "data": {
      "text/latex": [
       "$\\displaystyle \\frac{m_{electron} v}{B q_{electron}}$"
      ],
      "text/plain": [
       "m_electron*v/(B*q_electron)"
      ]
     },
     "execution_count": 8,
     "metadata": {},
     "output_type": "execute_result"
    }
   ],
   "source": [
    "ecuacion_lorentz = q_electron*v*B\n",
    "fuerza_centripeta = m_electron * v**2 / r\n",
    "igualar_ecuaciones = Eq(ecuacion_lorentz, fuerza_centripeta)\n",
    "radio_buscado = solve(igualar_ecuaciones, r)\n",
    "unidades = radio_buscado[0].subs({r: length, v: speed, B: magnetic_flux_density, m_electron: mass})\n",
    "radio_buscado[0]"
   ]
  },
  {
   "cell_type": "code",
   "execution_count": 9,
   "metadata": {},
   "outputs": [
    {
     "data": {
      "text/latex": [
       "$\\displaystyle 0.00220390901514658 \\text{m}$"
      ],
      "text/plain": [
       "0.00220390901514658*meter"
      ]
     },
     "execution_count": 9,
     "metadata": {},
     "output_type": "execute_result"
    }
   ],
   "source": [
    "radio_numerico = convert_to(radio_buscado[0].subs([(m_electron, masa_electron), \n",
    "    (v, velocidad_particula), (B, campo_magnetico_SI), (q_electron, 1.6e-19*coulomb)]), meter)\n",
    "radio_numerico"
   ]
  },
  {
   "cell_type": "markdown",
   "metadata": {},
   "source": [
    "Manejo de unidades:\n",
    "\n",
    "Demostramos que las unidades son metros.\n",
    "\n",
    "$$\n",
    "\\frac{kg \\cdot m}{C \\cdot s \\cdot T} \\rightarrow \\frac{kg \\cdot m}{C \\cdot s \\cdot \\frac{kg}{s\\cdot C}} \\rightarrow \\frac{kg \\cdot m}{kg} \\rightarrow m\n",
    "$$\n",
    "\n",
    "Debemos calcular su frecuencia y su periodo angular.\n",
    "\n",
    "$$\n",
    "\\omega = \\frac{2 \\cdot \\pi}{T} \\rightarrow T = \\frac{2\\cdot \\pi}{\\omega}\n",
    "$$\n",
    "\n",
    "$$\n",
    "v = \\frac{s}{t} \\rightarrow t = \\frac{v}{s}\n",
    "$$\n"
   ]
  },
  {
   "cell_type": "code",
   "execution_count": 10,
   "metadata": {},
   "outputs": [
    {
     "data": {
      "text/latex": [
       "$\\displaystyle \\frac{57083994386.1141 \\text{rad}}{\\text{s}}$"
      ],
      "text/plain": [
       "57083994386.1141*radian/second"
      ]
     },
     "execution_count": 10,
     "metadata": {},
     "output_type": "execute_result"
    }
   ],
   "source": [
    "omega = symbols(\"omega\")\n",
    "velocidad_angular = Eq(omega, v/ r)\n",
    "solucion_velocidad_angular = solve(velocidad_angular, omega)\n",
    "velocidad_angular_numerico = convert_to(solucion_velocidad_angular[0].subs([(v, velocidad_particula), (r, radio_numerico)]), radians/second)\n",
    "velocidad_angular_numerico"
   ]
  },
  {
   "cell_type": "code",
   "execution_count": 11,
   "metadata": {},
   "outputs": [
    {
     "data": {
      "text/latex": [
       "$\\displaystyle 89667328700.4885 \\text{Hz}$"
      ],
      "text/plain": [
       "89667328700.4885*hertz"
      ]
     },
     "execution_count": 11,
     "metadata": {},
     "output_type": "execute_result"
    }
   ],
   "source": [
    "f = symbols(\"f\")\n",
    "frecuencia = Eq(f, omega/2*pi)\n",
    "solucion_frecuencia = solve(frecuencia, f)\n",
    "unidades_frecuencia = solucion_frecuencia[0].subs({omega: radians / second, f: frequency})\n",
    "frecuencia = convert_to(solucion_frecuencia[0].subs([(omega, velocidad_angular_numerico)]), hertz)\n",
    "frecuencia.n()"
   ]
  },
  {
   "cell_type": "markdown",
   "metadata": {},
   "source": [
    "En el último apartado y debido a que el neutrino no tiene carga, su antipartícula tampoco. Estas partículas no interactúan con el campo magnético."
   ]
  },
  {
   "cell_type": "markdown",
   "metadata": {},
   "source": [
    "# EJERCICIO CAMPO MAGNÉTICO (método tradicional)"
   ]
  },
  {
   "cell_type": "markdown",
   "metadata": {},
   "source": [
    "Procedemos a realizar el apartado a del electrón:\n",
    "Un electrón en órbita perpendicular al campo magnético posee una capacidad de trabajo de $72090\\times 10^-19J$, y el campo, un flujo de $3250G$, ya que todos los electrones poseen la misma masa,\n",
    "$9,1\\times 10^-31kg$ y misma carga eléctrica, $-1,6\\times10^-19$C, poseemos los datos necesarios para resolver el problema.\n",
    "\n",
    "Pasamos todos los datos al sistema internacional, procedemos a realizar el apartado a con los siguientes datos, el campo magnético sería de $3250\\times 10^-4T$, y la capacidad de trabajo\n",
    "sería la energía que posee el electrón, en este caso la energía cinética, por lo que aplicamos cierta fórmula y operamos, donde la masa es m, Ec es la energía cinética."
   ]
  },
  {
   "cell_type": "markdown",
   "metadata": {},
   "source": [
    "$$\n",
    "Ec = \\frac{1}{2} m\\times v^2\n",
    "$$"
   ]
  },
  {
   "cell_type": "markdown",
   "metadata": {},
   "source": [
    "$$\n",
    "v = \\sqrt[2]{\\frac {2\\times Ec}{m}}\n",
    "$$"
   ]
  },
  {
   "cell_type": "markdown",
   "metadata": {},
   "source": [
    "$$\n",
    "v = 1,25\\times 10^8 \\frac{J}{kg} = 1,25\\times 10^8 \\frac{m}{s}\n",
    "$$"
   ]
  },
  {
   "cell_type": "markdown",
   "metadata": {
    "jupyter": {
     "outputs_hidden": true,
     "source_hidden": false
    },
    "nteract": {
     "transient": {
      "deleting": false
     }
    }
   },
   "source": [
    "Ya que:"
   ]
  },
  {
   "cell_type": "markdown",
   "metadata": {
    "collapsed": true,
    "jupyter": {
     "outputs_hidden": false,
     "source_hidden": false
    },
    "nteract": {
     "transient": {
      "deleting": false
     }
    }
   },
   "source": [
    "$$\n",
    "J = \\frac{Kg\\times m^2}{s^2}\n",
    "$$"
   ]
  },
  {
   "cell_type": "markdown",
   "metadata": {
    "collapsed": true,
    "jupyter": {
     "outputs_hidden": false,
     "source_hidden": false
    },
    "nteract": {
     "transient": {
      "deleting": false
     }
    }
   },
   "source": [
    "$$\n",
    " v= \\sqrt[2]{\\frac{J}{Kg}} = \\sqrt[2]{\\frac{Kg\\times m^2}{s^2\\times Kg}} = \\frac{m}{s}\n",
    "$$"
   ]
  },
  {
   "cell_type": "markdown",
   "metadata": {},
   "source": [
    "Donde logramos hallar la velocidad, que es $1,25*10^8 m/s$ y aplicamos nuevamente otra fórmula para hallar la distancia esta vez, en la que B es el flujo del campo, q la carga de la\n",
    "partícula, la v la velocidad de la partícula y la m la masa de la misma:"
   ]
  },
  {
   "cell_type": "markdown",
   "metadata": {
    "collapsed": true,
    "jupyter": {
     "outputs_hidden": false,
     "source_hidden": false
    },
    "nteract": {
     "transient": {
      "deleting": false
     }
    }
   },
   "source": [
    "$$\n",
    "r = \\frac{m\\times v}{q\\times B}\n",
    "$$"
   ]
  },
  {
   "cell_type": "markdown",
   "metadata": {
    "collapsed": true,
    "jupyter": {
     "outputs_hidden": false,
     "source_hidden": false
    },
    "nteract": {
     "transient": {
      "deleting": false
     }
    }
   },
   "source": [
    "$$\n",
    "r = 2,18735\\times 10^-3 m\n",
    "$$"
   ]
  },
  {
   "cell_type": "markdown",
   "metadata": {},
   "source": [
    "Donde hallamos el radio del campo, es decir, $2,18735\\times 10^-3m$"
   ]
  },
  {
   "cell_type": "markdown",
   "metadata": {
    "collapsed": true,
    "jupyter": {
     "outputs_hidden": false,
     "source_hidden": false
    },
    "nteract": {
     "transient": {
      "deleting": false
     }
    }
   },
   "source": [
    "$$\n",
    "w = v\\times r\n",
    "$$"
   ]
  },
  {
   "cell_type": "markdown",
   "metadata": {
    "collapsed": true,
    "jupyter": {
     "outputs_hidden": false,
     "source_hidden": false
    },
    "nteract": {
     "transient": {
      "deleting": false
     }
    }
   },
   "source": [
    "$$\n",
    "w = 5,715\\times 10^1\\frac{rad}{s}\n",
    "$$"
   ]
  },
  {
   "cell_type": "markdown",
   "metadata": {
    "collapsed": true,
    "jupyter": {
     "outputs_hidden": false,
     "source_hidden": false
    },
    "nteract": {
     "transient": {
      "deleting": false
     }
    }
   },
   "source": [
    "A continuación hallaremos el periodo angular, donde w es la velocidad angular:"
   ]
  },
  {
   "cell_type": "markdown",
   "metadata": {
    "collapsed": true,
    "jupyter": {
     "outputs_hidden": false,
     "source_hidden": false
    },
    "nteract": {
     "transient": {
      "deleting": false
     }
    }
   },
   "source": [
    "$$\n",
    "T = \\frac{2\\times π}{w}\n",
    "$$"
   ]
  },
  {
   "cell_type": "markdown",
   "metadata": {
    "collapsed": true,
    "jupyter": {
     "outputs_hidden": false,
     "source_hidden": false
    },
    "nteract": {
     "transient": {
      "deleting": false
     }
    }
   },
   "source": [
    "$$\n",
    "T = 1,0993\\times 10^-10\n",
    "$$"
   ]
  },
  {
   "cell_type": "markdown",
   "metadata": {},
   "source": [
    "Y, por último en el primer apartado hallamos la frecuencia con dicha fórmula:"
   ]
  },
  {
   "cell_type": "markdown",
   "metadata": {},
   "source": [
    "$$\n",
    "f=1/T => f=9,09*10^9s^-1\n",
    "$$"
   ]
  },
  {
   "cell_type": "markdown",
   "metadata": {
    "collapsed": true,
    "jupyter": {
     "outputs_hidden": false,
     "source_hidden": false
    },
    "nteract": {
     "transient": {
      "deleting": false
     }
    }
   },
   "source": [
    "$$\n",
    "f = \\frac{1}{T}\n",
    "$$"
   ]
  },
  {
   "cell_type": "markdown",
   "metadata": {
    "collapsed": true,
    "jupyter": {
     "outputs_hidden": false,
     "source_hidden": false
    },
    "nteract": {
     "transient": {
      "deleting": false
     }
    }
   },
   "source": [
    "$$\n",
    "f = 9,09\\times 10^9\\times s^-1\n",
    "$$"
   ]
  },
  {
   "cell_type": "markdown",
   "metadata": {},
   "source": [
    "Gráfica:\n",
    "En la siguiente gráfica apreciamos la trayectoria del electrón:"
   ]
  },
  {
   "cell_type": "markdown",
   "metadata": {},
   "source": [
    "\n",
    "![](./Alphaparticlemagnetic.svg)"
   ]
  },
  {
   "cell_type": "markdown",
   "metadata": {},
   "source": [
    "Creamos el widget que muestra la trayectoria del electrón, según la energía con la que entra al campo magnético."
   ]
  },
  {
   "cell_type": "code",
   "execution_count": 3,
   "metadata": {},
   "outputs": [],
   "source": [
    "%matplotlib inLine\n",
    "from matplotlib import pyplot as plt\n",
    "from matplotlib.animation import FuncAnimation\n",
    "import numpy as np\n",
    "from IPython.html.widgets import interact\n",
    "from IPython.display import HTML\n",
    "import math"
   ]
  },
  {
   "cell_type": "code",
   "execution_count": 4,
   "metadata": {},
   "outputs": [
    {
     "output_type": "display_data",
     "data": {
      "text/plain": "interactive(children=(FloatSlider(value=9.176045, description='energia', max=9.63209, min=8.72), IntSlider(val…",
      "application/vnd.jupyter.widget-view+json": {
       "version_major": 2,
       "version_minor": 0,
       "model_id": "edad4f0e7da644099b39c6ca2eb0ae12"
      }
     },
     "metadata": {}
    },
    {
     "output_type": "execute_result",
     "data": {
      "text/plain": [
       "<function __main__.radioTrayectoria(energia, valor_zoom)>"
      ]
     },
     "metadata": {},
     "execution_count": 4
    }
   ],
   "source": [
    "\n",
    "def zoom(valor=0):\n",
    "    plt.xlim(valor,3)\n",
    "    plt.ylim(valor,3)\n",
    "\n",
    "def radioTrayectoria (energia, valor_zoom):\n",
    "    energia = energia * 1e-19\n",
    "    masa = 9.1 * 1e-31\n",
    "    campo = 3250 * 1e-4\n",
    "    carga = 1.6 * 1e-19\n",
    "    \n",
    "    velocidad = math.sqrt((2*energia)/masa)\n",
    "    radio = ((masa * velocidad * campo)/carga)\n",
    "    \n",
    "    radio = radio / 1e-6\n",
    "    \n",
    "    circulo = plt.Circle((0,0), radio, fill=False)\n",
    "    fig, ax = plt.subplots()\n",
    "    type(plt.subplots)\n",
    "    ax.add_artist(circulo)\n",
    "    zoom(valor_zoom)\n",
    "    \n",
    "\n",
    "interact (radioTrayectoria, energia=(8.72, 9.63209),valor_zoom=(-3,0))"
   ]
  },
  {
   "cell_type": "markdown",
   "metadata": {},
   "source": [
    "Pasamos a realizar el apartado b del antineutrón:\n",
    "En este caso no es necesario calcular ninguna de las cuestiones anteriores debido a que el antineutrón no posee carga eléctrica, por lo que no puede produir movimiento, y por ello tampoco velocidad alguna en el campo."
   ]
  }
 ],
 "metadata": {
  "kernelspec": {
   "name": "python3",
   "display_name": "Python 3.9.0 64-bit",
   "metadata": {
    "interpreter": {
     "hash": "aee8b7b246df8f9039afb4144a1f6fd8d2ca17a180786b69acc140d282b71a49"
    }
   }
  },
  "language_info": {
   "codemirror_mode": {
    "name": "ipython",
    "version": 3
   },
   "file_extension": ".py",
   "mimetype": "text/x-python",
   "name": "python",
   "nbconvert_exporter": "python",
   "pygments_lexer": "ipython3",
   "version": "3.9.0-final"
  },
  "nteract": {
   "version": "0.26.0"
  }
 },
 "nbformat": 4,
 "nbformat_minor": 2
}